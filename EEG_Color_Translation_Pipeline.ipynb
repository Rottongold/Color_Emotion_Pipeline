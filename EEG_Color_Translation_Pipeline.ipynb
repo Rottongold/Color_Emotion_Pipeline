{
 "cells": [
  {
   "cell_type": "code",
   "execution_count": 14,
   "id": "3101eaff",
   "metadata": {},
   "outputs": [],
   "source": [
    "import mne \n",
    "import numpy as np"
   ]
  },
  {
   "cell_type": "code",
   "execution_count": null,
   "id": "8b1082de",
   "metadata": {},
   "outputs": [],
   "source": [
    "# Function to generate final text reporting color distribuction\n",
    "def generate_text(band_distribution):\n",
    "    text = []\n",
    "    for color in color2band:\n",
    "        text.append(f\"{color}: {band_distribution[color2band[color]]:.2f}%\")\n",
    "    \n",
    "    return ', '.join(text)"
   ]
  },
  {
   "cell_type": "code",
   "execution_count": 8,
   "id": "731afba9",
   "metadata": {},
   "outputs": [
    {
     "name": "stdout",
     "output_type": "stream",
     "text": [
      "Extracting parameters from /mnt/c/Users/AdminW/Desktop/Research/Emotion_Color_Detection/Example_Data/EEG_Subj_1_Preprocessed.set...\n",
      "Not setting metadata\n",
      "45 matching events found\n",
      "No baseline correction applied\n",
      "0 projection items activated\n",
      "Ready.\n"
     ]
    },
    {
     "name": "stderr",
     "output_type": "stream",
     "text": [
      "/tmp/ipykernel_4760/2299928715.py:1: RuntimeWarning: At least one epoch has multiple events. Only the latency of the first event will be retained.\n",
      "  raw_epoch = mne.read_epochs_eeglab('./Example_Data/EEG_Subj_1_Preprocessed.set')\n",
      "/tmp/ipykernel_4760/2299928715.py:1: RuntimeWarning: Estimated head radius (0.0 cm) is below the 3rd percentile for infant head size. Check if the montage_units argument is correct (the default is \"mm\", but your channel positions may be in different units).\n",
      "  raw_epoch = mne.read_epochs_eeglab('./Example_Data/EEG_Subj_1_Preprocessed.set')\n"
     ]
    }
   ],
   "source": [
    "# Note: for the purpose of demonstration, I used mne package to import the example data. If you are going to process EEG from \n",
    "# lsl, you will need to write corresponding code to receive EEG from lsl. The current code should be suitable for offline \n",
    "# analysis, though. \n",
    "\n",
    "raw_epoch = mne.read_epochs_eeglab('./Example_Data/EEG_Subj_1_Preprocessed.set')\n",
    "eeg_data = raw_epoch.get_data()"
   ]
  },
  {
   "cell_type": "code",
   "execution_count": 11,
   "id": "4b139158",
   "metadata": {},
   "outputs": [
    {
     "data": {
      "text/plain": [
       "(45, 224, 300)"
      ]
     },
     "execution_count": 11,
     "metadata": {},
     "output_type": "execute_result"
    }
   ],
   "source": [
    "# Data size for the example code: 45 epochs x 224 channels x 3 second (100Hz)\n",
    "eeg_data.shape"
   ]
  },
  {
   "cell_type": "code",
   "execution_count": 40,
   "id": "cc06f9e3",
   "metadata": {},
   "outputs": [],
   "source": [
    "#sampling rate\n",
    "fs = 100\n",
    "\n",
    "# Define EEG bands\n",
    "eeg_bands = {'Beta_Fast': (20, 30),\n",
    "             'Beta_Middle': (16, 20),\n",
    "             'Beta_Low': (12, 16),\n",
    "             'Alpha_Fast': (12, 14),\n",
    "             'Alpha_Middle': (9, 12),\n",
    "             'Alpha_Low': (8, 9),\n",
    "             'Theta': (4,7),\n",
    "             'Gamma': (31, 50)}\n",
    "\n",
    "# Define Color Translation \n",
    "color2band = {\n",
    "    'Red': 'Beta_Fast',\n",
    "    'Orange': 'Beta_Middle',\n",
    "    'Yellow': 'Beta_Low',\n",
    "    'Green': 'Alpha_Fast',\n",
    "    'Sky Blue': 'Alpha_Middle',\n",
    "    'Indigo': 'Alpha_Low',\n",
    "    'Violet': 'Theta',\n",
    "    'Gold': 'Gamma'\n",
    "}"
   ]
  },
  {
   "cell_type": "code",
   "execution_count": 36,
   "id": "f8a6e94a",
   "metadata": {},
   "outputs": [],
   "source": [
    "num_trial, num_channels = eeg_data.shape[:2]\n",
    "eeg_band_collection = []\n",
    "\n",
    "# looping through all the epochs to compute band power distribution. Note that if we are doing real time analysis, \n",
    "# we may not have multiple epochs to analyze so please modify accordingly (i.e. by removing the for loop for epochs)\n",
    "for t in range(num_trial):\n",
    "    \n",
    "    # Create dictionary to strore band amplitudes for the epoch\n",
    "    eeg_band_fft = {\n",
    "                 'Beta_Fast': [],\n",
    "                 'Beta_Middle': [],\n",
    "                 'Beta_Low': [],\n",
    "                 'Alpha_Fast': [],\n",
    "                 'Alpha_Middle': [],\n",
    "                 'Alpha_Low': [],\n",
    "                 'Theta': [],\n",
    "                 'Gamma': []}\n",
    "        \n",
    "    for c in range(num_channels):\n",
    "        \n",
    "        epoch = eeg_data[t][c]\n",
    "        \n",
    "        # Get real amplitudes of FFT (only in postive frequencies)\n",
    "        fft_vals = np.absolute(np.fft.rfft(epoch))\n",
    "\n",
    "        # Get frequencies for amplitudes in Hz\n",
    "        fft_freq = np.fft.rfftfreq(len(epoch), 1.0/fs)\n",
    "\n",
    "        # Take the mean of the fft amplitude for each EEG band\n",
    "        for band in eeg_bands:  \n",
    "            freq_ix = np.where((fft_freq >= eeg_bands[band][0]) & \n",
    "                               (fft_freq <= eeg_bands[band][1]))[0]\n",
    "            eeg_band_fft[band].append(np.mean(fft_vals[freq_ix]))\n",
    "           \n",
    "    sum_power = 0\n",
    "    #Compute the average power across all channels \n",
    "    for band in eeg_bands:\n",
    "        eeg_band_fft[band] = np.mean(eeg_band_fft[band])\n",
    "        sum_power += np.mean(eeg_band_fft[band])\n",
    "        \n",
    "    #Compute the average power across all channels \n",
    "    for band in eeg_bands:\n",
    "        eeg_band_fft[band] = (eeg_band_fft[band]/sum_power)*100\n",
    "        \n",
    "    eeg_band_collection.append(eeg_band_fft)"
   ]
  },
  {
   "cell_type": "code",
   "execution_count": 46,
   "id": "3ff502f2",
   "metadata": {},
   "outputs": [
    {
     "data": {
      "text/plain": [
       "'Red: 5.39%, Orange: 8.62%, Yellow: 13.63%, Green: 15.67%, Sky Blue: 12.92%, Indigo: 20.27%, Violet: 21.12%, Gold: 2.37%'"
      ]
     },
     "execution_count": 46,
     "metadata": {},
     "output_type": "execute_result"
    }
   ],
   "source": [
    "# Use generate_text to generate the final text summary, here we use the first epoch as an example\n",
    "generate_text(eeg_band_collection[0])"
   ]
  },
  {
   "cell_type": "code",
   "execution_count": null,
   "id": "0c82113b",
   "metadata": {},
   "outputs": [],
   "source": []
  }
 ],
 "metadata": {
  "kernelspec": {
   "display_name": "Python 3 (ipykernel)",
   "language": "python",
   "name": "python3"
  },
  "language_info": {
   "codemirror_mode": {
    "name": "ipython",
    "version": 3
   },
   "file_extension": ".py",
   "mimetype": "text/x-python",
   "name": "python",
   "nbconvert_exporter": "python",
   "pygments_lexer": "ipython3",
   "version": "3.10.12"
  }
 },
 "nbformat": 4,
 "nbformat_minor": 5
}
